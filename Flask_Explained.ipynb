{
 "cells": [
  {
   "cell_type": "markdown",
   "metadata": {},
   "source": [
    "<h1 style=\"color:red;\"> Модуль Flask и все, что его окружает...</h1>"
   ]
  },
  {
   "cell_type": "markdown",
   "metadata": {},
   "source": [
    "<img src=\"./pictures/Flask-logo.png\" alt=\"Логотип Flsk\" width=\"40%\">"
   ]
  },
  {
   "cell_type": "markdown",
   "metadata": {},
   "source": [
    "<code>Flask</code> (фляжка) - это фреймворк (набор инструментов) для создания веб-сайтов. По свои возможностям стоит выше, чем <code>Bottle</code>, но ниже, чем <code>Django</code>. <code>Flask</code> в использовании почти так же прост, как и <code>Bottle</code>, но поддерживает множество расширений, которые могут оказаться полезными в профессиональной веб-разработке. Прежде, чем разбираться в работе <code>Flask</code>, разберем некоторые инструменты <code>Python</code>, которые нам могут пригодиться. А поскольку речь идет о веб-разработке, нелишним будет вспомнить и некоторые азы HTML "
   ]
  },
  {
   "cell_type": "markdown",
   "metadata": {},
   "source": [
    "<h3 style=\"color:blue;\">Позиционные аргументы функций</h3>"
   ]
  },
  {
   "cell_type": "markdown",
   "metadata": {},
   "source": [
    "<html><body><p>Это наиболее распространенные тип аргуметов <strong>функций</strong>. Для <i>позиционных аргументов</i> значения копируются в соответствующие параметры функций согласно <mark>порядку следования</mark>.</p>\n",
    "<p>Приведенная ниже функция создает словарь из позиционных входных аргументов и возвращает его:</p></body></html>"
   ]
  },
  {
   "cell_type": "code",
   "execution_count": null,
   "metadata": {
    "collapsed": true
   },
   "outputs": [],
   "source": [
    "def menu(wine, entree, dessert):\n",
    "    return {'Вино':wine, 'Основное блюдо':entree, 'Десерт':dessert}"
   ]
  },
  {
   "cell_type": "code",
   "execution_count": null,
   "metadata": {
    "collapsed": false
   },
   "outputs": [],
   "source": [
    "menu('Киндзмараули', 'Шашлык', 'Чурчхела')"
   ]
  },
  {
   "cell_type": "markdown",
   "metadata": {},
   "source": [
    "Основной недостаток позиционных аргументов - <mark>нужно запоминать порядок их следования</mark>, значение каждой позиции. Если перепутать порядок следования, можно получить забавный результат:"
   ]
  },
  {
   "cell_type": "code",
   "execution_count": null,
   "metadata": {
    "collapsed": false
   },
   "outputs": [],
   "source": [
    "menu('Шашлык', 'Чурчхела', 'Киндзмараули')"
   ]
  },
  {
   "cell_type": "markdown",
   "metadata": {},
   "source": [
    "<h3 style=\"color:blue;\">Аргументы - ключевые слова</h3>"
   ]
  },
  {
   "cell_type": "markdown",
   "metadata": {},
   "source": [
    "Для того, чтобы избежать путаницы с позиционными аргументами, можно указать значения аргументов с помощью имен соответствующих параметров. В этом случае порядок следования может быть совершенно произвольным:"
   ]
  },
  {
   "cell_type": "code",
   "execution_count": null,
   "metadata": {
    "collapsed": false
   },
   "outputs": [],
   "source": [
    "menu(entree='Шашлык', dessert='Чурчхела', wine='Киндзмараули')"
   ]
  },
  {
   "cell_type": "markdown",
   "metadata": {},
   "source": [
    "<h3 style=\"color:blue;\">Параметры по умолчанию</h3>"
   ]
  },
  {
   "cell_type": "markdown",
   "metadata": {},
   "source": [
    "При определении функции можно указывать значения <mark>параметров по умолчанию</mark>. Значения по умолчанию используются в том случае, если <i>вызывающая функцию строка кода не представила соответствующий аргумент</i>. Такой прием может быть полезным для параметров, которые чаще всего используются с фиксированным значением. Вот пример:"
   ]
  },
  {
   "cell_type": "code",
   "execution_count": null,
   "metadata": {
    "collapsed": true
   },
   "outputs": [],
   "source": [
    "def menu(wine, entree, dessert='Торт Наполеон'):\n",
    "    return {'Вино':wine, 'Основное блюдо':entree, 'Десерт':dessert}"
   ]
  },
  {
   "cell_type": "markdown",
   "metadata": {},
   "source": [
    "Теперь мы  можем пропустить параметр <code>dessert</code> при вызове функций, задав лишь два аргумента:"
   ]
  },
  {
   "cell_type": "code",
   "execution_count": null,
   "metadata": {
    "collapsed": false
   },
   "outputs": [],
   "source": [
    "menu('Ркацители', 'Хинкали')"
   ]
  },
  {
   "cell_type": "markdown",
   "metadata": {},
   "source": [
    "<h3 style=\"color:green;\">Декораторы</h3>"
   ]
  },
  {
   "cell_type": "markdown",
   "metadata": {},
   "source": [
    "Иногда бывает необходимо <mark>изменить действие существующей функции</mark>, не меняя при этом ее код. Например, нужно добавать выражение для отладки. Например, чтобы посмотреть, какие именно аргументы были переданы в функцию."
   ]
  },
  {
   "cell_type": "markdown",
   "metadata": {},
   "source": [
    "<i>Декоратор</i> - это функция, которая принимает одну функцию в качестве аргумента и возвращает другую функцию. Приведенная ниже декораторная функция <code>document_it</code>, выполнит следующие действия:"
   ]
  },
  {
   "cell_type": "markdown",
   "metadata": {},
   "source": [
    " <ul>\n",
    "  <li>Выведет имя функции и значения переданный в нее аргументов;</li>\n",
    "  <li>Запустит функцию с полученными аргументами;</li>\n",
    "  <li>Выведет результат;</li>\n",
    "  <li>Вернет модифицированную функцию, готовую для использования;</li>\n",
    "</ul> "
   ]
  },
  {
   "cell_type": "markdown",
   "metadata": {},
   "source": [
    "Необходимый код <i>декораторной функции</i> будет выглядееть так:"
   ]
  },
  {
   "cell_type": "code",
   "execution_count": null,
   "metadata": {
    "collapsed": true
   },
   "outputs": [],
   "source": [
    "def document_it(func):\n",
    "    def new_function(*args, **kwargs):\n",
    "        print('Исполняемая функция:', func.__name__)\n",
    "        print('Позиционные аргументы:', args)\n",
    "        print('Аргументы - ключевые слова:', kwargs)\n",
    "        result = func(*args, **kwargs)\n",
    "        print('Результат', result)\n",
    "        return result\n",
    "    return new_function"
   ]
  },
  {
   "cell_type": "markdown",
   "metadata": {},
   "source": [
    "Независимо от того, какую функцию <code>func</code> мы передадим функции <code>document_it</code>, мы получим новую функцию, которая содержит дополнительные выражения, добавленные <code>document_it</code>. Декоратор не обязательно должен запускать функцию <code>func</code>, но <code>document_it</code> вызовет часть <code>func</code>, поэтому мы получим результат работы <code>func</code>, а также дополнительные данные. "
   ]
  },
  {
   "cell_type": "markdown",
   "metadata": {},
   "source": [
    "Определим теперь некую простую функцию и запустим ее, для начала, <em>как есть</em>, безо всякого декоратора:"
   ]
  },
  {
   "cell_type": "code",
   "execution_count": null,
   "metadata": {
    "collapsed": false
   },
   "outputs": [],
   "source": [
    "def addints(a, b):\n",
    "    return a+b\n",
    "addints(3, 5)"
   ]
  },
  {
   "cell_type": "markdown",
   "metadata": {},
   "source": [
    "Теперь присвоим ссылку на декоратор <em>вручную</em> некоей новой переменной и запустим функцию под новым именем:"
   ]
  },
  {
   "cell_type": "code",
   "execution_count": null,
   "metadata": {
    "collapsed": false
   },
   "outputs": [],
   "source": [
    "new_addints = document_it(addints)\n",
    "new_addints(3, 5)"
   ]
  },
  {
   "cell_type": "markdown",
   "metadata": {},
   "source": [
    "Чтобы избежать ручного присваивания ссылки на декоратор, можно добавить конструкцию <code>@имя_декоратора</code> перед определением функции, которую мы хотим декорировать. Вот так:"
   ]
  },
  {
   "cell_type": "code",
   "execution_count": null,
   "metadata": {
    "collapsed": false
   },
   "outputs": [],
   "source": [
    "@document_it\n",
    "def addints(a, b):\n",
    "    return a+b\n",
    "addints(3, 5)"
   ]
  },
  {
   "cell_type": "markdown",
   "metadata": {},
   "source": [
    "<h3 style=\"color:#000080;\">Основные элементы языка HTML</h3>"
   ]
  },
  {
   "cell_type": "markdown",
   "metadata": {},
   "source": [
    "<strong>HTML</strong> (от англ. HyperText Markup Language — «язык гипертекстовой разметки») — стандартизированный язык разметки документов во Всемирной паутине. Большинство веб-страниц содержат описание разметки на языке HTML (или XHTML). Язык HTML интерпретируется <i>браузерами</i>; полученный в результате интерпретации форматированный текст отображается на экране монитора компьютера или мобильного устройства."
   ]
  },
  {
   "cell_type": "markdown",
   "metadata": {},
   "source": [
    "Примеры разметки на HTML:"
   ]
  },
  {
   "cell_type": "markdown",
   "metadata": {},
   "source": [
    "<img src=\"./pictures/code1.png\" alt=\"Первый пример кода\" >"
   ]
  },
  {
   "cell_type": "markdown",
   "metadata": {},
   "source": [
    "<html>\n",
    "<head>\n",
    "<title>Page Title</title>\n",
    "</head>\n",
    "<body>\n",
    "\n",
    "<h1>This is a Heading</h1>\n",
    "<p>This is a paragraph.</p>\n",
    "\n",
    "</body>\n",
    "</html>"
   ]
  },
  {
   "cell_type": "markdown",
   "metadata": {},
   "source": [
    "Типичная структура HTML страницы выглядит примерно так:"
   ]
  },
  {
   "cell_type": "markdown",
   "metadata": {},
   "source": [
    "<img src=\"./pictures/code2.png\" alt=\"Типичная структура\" >"
   ]
  },
  {
   "cell_type": "markdown",
   "metadata": {
    "collapsed": true
   },
   "source": [
    "Примеры заголовков HTML:"
   ]
  },
  {
   "cell_type": "markdown",
   "metadata": {},
   "source": [
    "<img src=\"./pictures/code3.png\" alt=\"Разные заголовки\" >"
   ]
  },
  {
   "cell_type": "markdown",
   "metadata": {},
   "source": [
    "<h1>This is heading 1</h1>\n",
    "<h2>This is heading 2</h2>\n",
    "<h3>This is heading 3</h3> "
   ]
  },
  {
   "cell_type": "markdown",
   "metadata": {},
   "source": [
    "Параграфы в HTML"
   ]
  },
  {
   "cell_type": "markdown",
   "metadata": {},
   "source": [
    "<img src=\"./pictures/code4.png\" alt=\"Параграфы\" >"
   ]
  },
  {
   "cell_type": "markdown",
   "metadata": {},
   "source": [
    "<p>This is a paragraph.</p>\n",
    "<p>This is another paragraph.</p> "
   ]
  },
  {
   "cell_type": "markdown",
   "metadata": {},
   "source": [
    "Ссылки на другие страницы (другие ресурсы) в HTML:"
   ]
  },
  {
   "cell_type": "markdown",
   "metadata": {},
   "source": [
    "<img src=\"./pictures/code5.png\" alt=\"Параграфы\" >"
   ]
  },
  {
   "cell_type": "markdown",
   "metadata": {},
   "source": [
    " <a href=\"http://www.w3schools.com\">This is a link</a> "
   ]
  },
  {
   "cell_type": "markdown",
   "metadata": {},
   "source": [
    "Изображение с заданными размерами и альтернативным текстом (который будет показан, если изображение не удастся загрузить)"
   ]
  },
  {
   "cell_type": "markdown",
   "metadata": {},
   "source": [
    "<img src=\"./pictures/code6.png\" alt=\"Вставка картинок\" >"
   ]
  },
  {
   "cell_type": "markdown",
   "metadata": {},
   "source": [
    " <img src=\"./pictures/w3schools.jpg\" alt=\"W3Schools.com\" width=\"104\" height=\"142\"> "
   ]
  },
  {
   "cell_type": "markdown",
   "metadata": {},
   "source": [
    "С помощью разметки HTML можно задать цвет фона всей страницы:"
   ]
  },
  {
   "cell_type": "markdown",
   "metadata": {},
   "source": []
  },
  {
   "cell_type": "markdown",
   "metadata": {},
   "source": [
    "<body style=\"background-color:blue;\">\n",
    "\n",
    "<h1>This is a heading</h1>\n",
    "<p>This is a paragraph.</p>\n",
    "\n",
    "</body>"
   ]
  },
  {
   "cell_type": "markdown",
   "metadata": {},
   "source": [
    "А также цвета отдельных элементов: цвет шрифта заголовка и параграфа"
   ]
  },
  {
   "cell_type": "markdown",
   "metadata": {},
   "source": []
  },
  {
   "cell_type": "markdown",
   "metadata": {},
   "source": [
    "<h1 style=\"color:blue;\">This is a heading</h1>\n",
    "<p style=\"color:red;\">This is a paragraph.</p>"
   ]
  },
  {
   "cell_type": "markdown",
   "metadata": {},
   "source": [
    "В HTML можно задавать различные семейства шрифтов:"
   ]
  },
  {
   "cell_type": "markdown",
   "metadata": {},
   "source": [
    "<h1 style=\"font-family:verdana;\">This is a heading</h1>\n",
    "<p style=\"font-family:courier;\">This is a paragraph.</p>"
   ]
  },
  {
   "cell_type": "markdown",
   "metadata": {},
   "source": [
    "<html>\n",
    "<body>\n",
    "\n",
    "<form action=\"action_page.php\">\n",
    "  First name:<br>\n",
    "  <input type=\"text\" name=\"firstname\" value=\"Mickey\">\n",
    "  <br>\n",
    "  Last name:<br>\n",
    "  <input type=\"text\" name=\"lastname\" value=\"Mouse\">\n",
    "  <br><br>\n",
    "  <input type=\"submit\" value=\"Submit\">\n",
    "</form> \n",
    "\n",
    "<p>If you click the \"Submit\" button, the form-data will be sent to a page called \"action_page.php\".</p>\n",
    "\n",
    "</body>\n",
    "</html>"
   ]
  },
  {
   "cell_type": "markdown",
   "metadata": {
    "collapsed": true
   },
   "source": [
    "<h3 style=\"color:#000090;\">Простые примеры на Flask</h3>"
   ]
  },
  {
   "cell_type": "markdown",
   "metadata": {
    "collapsed": true
   },
   "source": [
    "Приведенная ниже программа возвращает, по традиции, заветную фразу \"Hello world\""
   ]
  },
  {
   "cell_type": "code",
   "execution_count": null,
   "metadata": {
    "collapsed": false
   },
   "outputs": [],
   "source": [
    "from flask import Flask\n",
    "\n",
    "app = Flask(__name__)\n",
    "\n",
    "@app.route('/')\n",
    "def hello_world():\n",
    "    return 'Hello World!'\n",
    "\n",
    "if __name__ == '__main__':\n",
    "    app.run()"
   ]
  },
  {
   "cell_type": "markdown",
   "metadata": {},
   "source": [
    "Теперь нужно открыть в любом браузере адрес  http://127.0.0.1:5000/ Число 5000 обозначает номер порта."
   ]
  },
  {
   "cell_type": "markdown",
   "metadata": {},
   "source": [
    "Более сложный пример, использующий HTML страницу в качестве шаблона:"
   ]
  },
  {
   "cell_type": "code",
   "execution_count": null,
   "metadata": {
    "collapsed": false
   },
   "outputs": [],
   "source": [
    "from flask import Flask, render_template\n",
    "\n",
    "app = Flask(__name__, static_folder='.', static_url_path='')\n",
    "\n",
    "@app.route('/<thing>')\n",
    "def home(thing):\n",
    "    return render_template('flask2.html', thing=thing)\n",
    "\n",
    "@app.route('/echo/<thing>')\n",
    "def echo(thing):\n",
    "    return thing\n",
    "\n",
    "app.run(port=7777, debug=True)"
   ]
  },
  {
   "cell_type": "markdown",
   "metadata": {},
   "source": [
    "Теперь мы можем перейти к построению \"совсем сложного\" примера, который использует ссразу несколько HTML шаблонов"
   ]
  },
  {
   "cell_type": "code",
   "execution_count": null,
   "metadata": {
    "collapsed": true
   },
   "outputs": [],
   "source": [
    "from flask import Flask\n",
    "from flask import url_for, render_template, request, redirect\n",
    "\n",
    "app = Flask(__name__)\n",
    "\n",
    "\n",
    "@app.route('/')\n",
    "def form():\n",
    "    if request.args:\n",
    "        name = request.args['name']\n",
    "        lastname = request.args['lastname']\n",
    "        birth = request.args['birth']\n",
    "        phone = request.args['phone']\n",
    "        email = request.args['email']\n",
    "        country = request.args['country']\n",
    "        city = request.args['city']\n",
    "        sex = request.args['Sex']\n",
    "        food = request.args['food']\n",
    "        comment = request.args[\"comment\"]\n",
    "        num = request.args[\"num\"]\n",
    "        print(name, birth, phone, country, city, sex, food, num, comment)\n",
    "        return render_template('aform.html', name=name, birth=birth)\n",
    "    return render_template('qform.html')\n",
    "\n",
    "\n",
    "if __name__ == '__main__':\n",
    "    app.run(debug=True)"
   ]
  }
 ],
 "metadata": {
  "kernelspec": {
   "display_name": "Python 3",
   "language": "python",
   "name": "python3"
  },
  "language_info": {
   "codemirror_mode": {
    "name": "ipython",
    "version": 3.0
   },
   "file_extension": ".py",
   "mimetype": "text/x-python",
   "name": "python",
   "nbconvert_exporter": "python",
   "pygments_lexer": "ipython3",
   "version": "3.4.3+"
  }
 },
 "nbformat": 4,
 "nbformat_minor": 0
}